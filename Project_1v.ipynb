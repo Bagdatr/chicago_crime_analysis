{
 "cells": [
  {
   "cell_type": "markdown",
   "metadata": {},
   "source": [
    "# Project #1: Analyze Chicago Crime Dataset"
   ]
  },
  {
   "cell_type": "markdown",
   "metadata": {},
   "source": [
    "- Bagdat Rakhimov\n",
    "\n",
    "- Predictive Analytics Diploma Program, PACE, University of Winnipeg\n",
    "\n",
    "- Applied Statistics for Data Science PA F24\n",
    "\n",
    "- Hieu Dang, PhD\n",
    "\n",
    "- March 3, 2025"
   ]
  },
  {
   "cell_type": "markdown",
   "metadata": {},
   "source": [
    "## 1. Introduction"
   ]
  },
  {
   "cell_type": "markdown",
   "metadata": {},
   "source": [
    "### 1.1. Background"
   ]
  },
  {
   "cell_type": "markdown",
   "metadata": {},
   "source": [
    "This dataset includes reported crime incidents in Chicago from 2001 to 2022. Data comes from the Chicago Police Department's CLEAR system."
   ]
  },
  {
   "cell_type": "markdown",
   "metadata": {},
   "source": [
    "### 1.2. Objective"
   ]
  },
  {
   "cell_type": "markdown",
   "metadata": {},
   "source": [
    "Analyze the Chicago Crime Dataset to generate insights and provide recommendations to the government and citizens of the City of Chicago."
   ]
  },
  {
   "cell_type": "markdown",
   "metadata": {},
   "source": [
    "### 1.3. Scope"
   ]
  },
  {
   "cell_type": "markdown",
   "metadata": {},
   "source": [
    "The dataset represents crime incidents from January 1, 2001, to December 5, 2022, providing over 21 years of historical data."
   ]
  },
  {
   "cell_type": "markdown",
   "metadata": {},
   "source": [
    "## 2. Data Understanding & Preparation"
   ]
  },
  {
   "cell_type": "markdown",
   "metadata": {},
   "source": [
    "### 2.1. Dataset Overview"
   ]
  },
  {
   "cell_type": "markdown",
   "metadata": {},
   "source": [
    "The dataset has the following columns and datatypes:\n",
    "\n",
    "- **id** (data type: Integer): Unique identifier for each crime incident.\n",
    "\n",
    "- **case_number** (String): A unique case reference number assigned by the police.\n",
    "\n",
    "- **date** (Date/Time): The date and time when the crime occurred.\n",
    "\n",
    "- **block** (String): Approximate address where the crime happened (block-level precision).\n",
    "\n",
    "- **iucr** (String): Illinois Uniform Crime Reporting (IUCR) code that categorizes the crime.\n",
    "\n",
    "- **primary_type** (String): The general category of crime (e.g., THEFT, BURGLARY, ASSAULT).\n",
    "\n",
    "- **description** (String): More detailed crime description (e.g., \"THEFT OVER $500\").\n",
    "\n",
    "- **location_description** (String): The type of place where the crime happened (e.g., \"Street\", \"Gas Station\").\n",
    "\n",
    "- **arrest** (Boolean): Whether an arrest was made (TRUE/FALSE).\n",
    "\n",
    "- **domestic** (Boolean): Indicates if the incident was domestic violence-related (TRUE/FALSE).\n",
    "\n",
    "- **beat** (Integer): Smallest police patrol unit area.\n",
    "\n",
    "- **district** (Float): Larger police district where the crime happened.\n",
    "\n",
    "- **ward** (Float): City council district where the crime occurred.\n",
    "\n",
    "- **community_area** (Float): Community-level region in Chicago (1-77).\n",
    "\n",
    "- **fbi_code** (String): FBI classification code for crime types.\n",
    "\n",
    "- **x_coordinate** (Float): Geographic coordinate for mapping.\n",
    "\n",
    "- **y_coordinate** (Float): Geographic coordinate for mapping.\n",
    "\n",
    "- **year** (Integer): Year the incident occurred.\n",
    "\n",
    "- **updated_on** (Date/Time): Date and time the record was last updated.\n",
    "\n",
    "- **latitude** (Float): Latitude coordinate of crime location.\n",
    "\n",
    "- **longitude** (Float): Longitude coordinate of crime location.\n",
    "\n",
    "- **location** (String): Combined latitude and longitude values.\n",
    "\n",
    "- **historical_wards_2003-2015** (Float): The City of Chicago's ward boundaries before the 2015 redistricting.\n",
    "\n",
    "- **zip_codes** (Float): The postal ZIP code where the crime occurred\n",
    "\n",
    "- **community_areas** (Float): Community areas (1-77) are predefined geographic regions in Chicago, useful for demographic and economic analysis.\n",
    "\n",
    "- **census _tract**s (Float): A geographic unit used by the U.S. Census Bureau.\n",
    "\n",
    "- **wards** (Float): The current (post-2015) ward number where the crime occurred.\n",
    "\n",
    "- **boundaries_-_zip_codes** (Float): Likely a spatial boundary indicator for ZIP codes, used for geospatial mapping and area-based crime trends.\n",
    "\n",
    "- **police_districts** (Float): The larger police jurisdiction within which the crime was reported.\n",
    "\n",
    "- **police_beats** (Float): The smallest geographic police unit, where officers regularly patrol."
   ]
  },
  {
   "cell_type": "markdown",
   "metadata": {},
   "source": [
    "### 2.2. Data Source"
   ]
  },
  {
   "cell_type": "markdown",
   "metadata": {},
   "source": [
    "The link to the City of Chicago dataset:\n",
    "\n",
    "https://drive.google.com/file/d/13DUbNq-HKRYI2xYSbaEWAt6vwALO-Esq/view"
   ]
  },
  {
   "cell_type": "markdown",
   "metadata": {},
   "source": [
    "### 2.3. Data Exploration"
   ]
  },
  {
   "cell_type": "markdown",
   "metadata": {},
   "source": [
    "#### 2.3.1. Tools Preparation"
   ]
  },
  {
   "cell_type": "code",
   "execution_count": null,
   "metadata": {},
   "outputs": [],
   "source": [
    "# Importing libraries and packages\n",
    "import pandas as pd\n",
    "import matplotlib.pyplot as plt\n",
    "import seaborn as sb\n",
    "import numpy as np\n",
    "import zipfile\n",
    "import gdown\n",
    "import os\n",
    "import geopandas as gpd\n",
    "import folium\n",
    "from folium.plugins import HeatMap\n",
    "from folium.features import GeoJsonTooltip\n",
    "import branca.colormap as cm\n",
    "from IPython.display import display"
   ]
  },
  {
   "cell_type": "markdown",
   "metadata": {},
   "source": [
    "#### 2.3.2. Loading Data"
   ]
  },
  {
   "cell_type": "code",
   "execution_count": null,
   "metadata": {},
   "outputs": [],
   "source": [
    "# Define the folder dynamically\n",
    "current_dir = os.getcwd()\n",
    "data_folder_path = os.path.join(current_dir, 'data')\n",
    "os.makedirs(data_folder_path, exist_ok=True)\n",
    "\n",
    "# Define file paths dynamically\n",
    "destination = os.path.join(data_folder_path, 'chicago_crime_dataset_v2.csv.zip')\n",
    "csv_file_path = os.path.join(data_folder_path, 'chicago_crime_dataset_v2.csv')"
   ]
  },
  {
   "cell_type": "code",
   "execution_count": null,
   "metadata": {},
   "outputs": [],
   "source": [
    "# Download the dataset\n",
    "file_id = '13DUbNq-HKRYI2xYSbaEWAt6vwALO-Esq'\n",
    "gdown.download(f'https://drive.google.com/uc?id={file_id}', destination, quiet=False)\n",
    "print('Download completed!')"
   ]
  },
  {
   "cell_type": "code",
   "execution_count": null,
   "metadata": {},
   "outputs": [],
   "source": [
    "# Unzip the dataset\n",
    "try:\n",
    "    with zipfile.ZipFile(destination, 'r') as zip_ref:\n",
    "        zip_ref.extractall(data_folder_path)\n",
    "        print(f'Files unzipped successfully to {data_folder_path}')\n",
    "except zipfile.BadZipFile:\n",
    "    print('Error: Invalid zip file')\n",
    "except Exception as e:\n",
    "    print(f'Failed to unzip: {e}')"
   ]
  },
  {
   "cell_type": "code",
   "execution_count": null,
   "metadata": {},
   "outputs": [],
   "source": [
    "# Load dataset\n",
    "crime_data = pd.read_csv(csv_file_path)"
   ]
  },
  {
   "cell_type": "code",
   "execution_count": null,
   "metadata": {},
   "outputs": [],
   "source": [
    "# Verify dataset size and memory usage before cleaning\n",
    "print(f'Dataset shape before cleaning: {crime_data.shape}')\n",
    "print(crime_data.memory_usage(deep=True).sum(), 'bytes before cleaning')"
   ]
  },
  {
   "cell_type": "markdown",
   "metadata": {},
   "source": [
    "#### 2.3.3. Initial Inspection"
   ]
  },
  {
   "cell_type": "code",
   "execution_count": null,
   "metadata": {},
   "outputs": [],
   "source": [
    "# Check the first few rows\n",
    "crime_data.head()"
   ]
  },
  {
   "cell_type": "code",
   "execution_count": null,
   "metadata": {},
   "outputs": [],
   "source": [
    "# Check the number of rows and columns in the dataset\n",
    "print(f\"Dataset contains {crime_data.shape[0]} rows and {crime_data.shape[1]} columns.\")"
   ]
  },
  {
   "cell_type": "code",
   "execution_count": null,
   "metadata": {},
   "outputs": [],
   "source": [
    "# Display column names and their data types\n",
    "crime_data.info()"
   ]
  },
  {
   "cell_type": "markdown",
   "metadata": {},
   "source": [
    "Observation:\n",
    "\n",
    "- The dataset contains 7,691,209 rows and 30 columns, covering various data types, including integers (crime IDs, beats, years), floats (coordinates, districts, wards), booleans (arrest, domestic cases), and strings (case numbers, crime descriptions, locations)."
   ]
  },
  {
   "cell_type": "code",
   "execution_count": null,
   "metadata": {},
   "outputs": [],
   "source": [
    "# Check for missing values in each column\n",
    "print(crime_data.isnull().sum())"
   ]
  },
  {
   "cell_type": "markdown",
   "metadata": {},
   "source": [
    "Observation:\n",
    "\n",
    "- Several columns have missing values, with some having minimal gaps (e.g., Case Number with only 4 missing values), while others have significant gaps (e.g., Ward with 614,847 missing values). Geospatial columns (X Coordinate, Y Coordinate, Latitude, Longitude, and Location) have 81,758 missing entries, which may affect any mapping or geospatial analysis. The Ward and Community Area columns also have over 600,000 missing values, which could impact demographic or political analysis. Handling these missing values will be crucial—potential solutions include imputation, removal, or filling with default values where appropriate."
   ]
  },
  {
   "cell_type": "markdown",
   "metadata": {},
   "source": [
    "| Column Name                   | Missing Values | Description | Comments |\n",
    "|--------------------------------|---------------|-------------|----------|\n",
    "| ID                             | 0             | Unique identifier for each crime record. | Keep – essential for tracking crimes. |\n",
    "| Case Number                    | 4             | Unique case identifier; a small number of missing cases may indicate data entry issues. | Drop - existance of ID |\n",
    "| Date                           | 0             | Date and time when the crime occurred. | Keep – essential for analysis. |\n",
    "| Block                          | 0             | Block where the crime took place. | Keep – useful for location-based analysis. |\n",
    "| IUCR                           | 0             | Illinois Uniform Crime Reporting (IUCR) code for the crime type. | Keep – necessary for crime classification. |\n",
    "| Primary Type                   | 0             | General category of the crime. | Keep – important for crime trends. |\n",
    "| Description                    | 0             | More specific description of the crime. | Keep – useful for detailed analysis. |\n",
    "| Location Description           | 9,824         | Location type where the crime happened (e.g., street, residence, school). | Input missing values with \"Unknown\". |\n",
    "| Arrest                         | 0             | Indicates whether an arrest was made (True/False). | Keep – useful for law enforcement insights. |\n",
    "| Domestic                       | 0             | Indicates whether the crime was domestic-related (True/False). | Keep – relevant for policy-making. |\n",
    "| Beat                           | 0             | Police beat (smallest geographic unit for policing). | Drop due to lack of necessity. |\n",
    "| District                       | 47            | Police district where the crime occurred. | Input missing values with \"Unknown\". |\n",
    "| Ward                           | 614,847       | Ward of the city where the crime took place (many missing values). | Drop – too many missing values. |\n",
    "| Community Area                 | 613,476       | Community area where the crime occurred (similar to Ward, large missing values). | Drop – too many missing values. |\n",
    "| FBI Code                       | 0             | FBI code representing the crime category. | Drop due to lack of necessity. |\n",
    "| X Coordinate                   | 81,758        | X-coordinate for mapping crime locations (many missing). | Drop due to existance of Latitude. |\n",
    "| Y Coordinate                   | 81,758        | Y-coordinate for mapping crime locations (many missing). | Drop due to existance of Longitude. |\n",
    "| Year                           | 0             | Year of the crime occurrence. | Keep – necessary for trend analysis. |\n",
    "| Updated On                     | 0             | Date when the record was last updated. | Drop due to lack of necessity. |\n",
    "| Latitude                       | 81,758        | Latitude of the crime location (many missing). | Keep - useful for mapping. |\n",
    "| Longitude                      | 81,758        | Longitude of the crime location (many missing). | Keep - useful for mapping. |\n",
    "| Location                       | 81,758        | Concatenation of Latitude and Longitude (many missing). | Drop – redundant due to Latitude and Longitude are used. |\n",
    "| Historical Wards 2003-2015      | 104,135       | Historical ward classification from 2003-2015 (many missing). | Drop – outdated data. |\n",
    "| Zip Codes                      | 81,758        | ZIP code where the crime took place (many missing). | Drop – too many missing values. |\n",
    "| Community Areas                | 101,079       | Community area codes, similar to Wards (many missing). | Keep - useful for mapping. |\n",
    "| Boundaries - ZIP Codes         | 101,027       | Boundaries related to ZIP code mapping (many missing). | Drop – too many missing values. |\n",
    "| Police Districts               | 99,918        | Police district classification (many missing). | Drop – too many missing values. |\n",
    "| Police Beats                   | 99,895        | Police beats classification (many missing). | Drop – too many missing values. |"
   ]
  },
  {
   "cell_type": "code",
   "execution_count": null,
   "metadata": {},
   "outputs": [],
   "source": [
    "# Check for duplicate rows in the dataset\n",
    "duplicate_count = crime_data.duplicated().sum()\n",
    "print(f\"Number of duplicate rows: {duplicate_count}\")"
   ]
  },
  {
   "cell_type": "markdown",
   "metadata": {},
   "source": [
    "Observation:\n",
    "\n",
    "- The dataset contains no duplicate rows, meaning that each crime record is unique."
   ]
  },
  {
   "cell_type": "code",
   "execution_count": null,
   "metadata": {},
   "outputs": [],
   "source": [
    "# Display summary statistics for numerical columns\n",
    "crime_data.describe()"
   ]
  },
  {
   "cell_type": "markdown",
   "metadata": {},
   "source": [
    "Observation:\n",
    "\n",
    "- The dataset includes 7,691,209 crime records spanning from 2001 to 2022, with the median (50%) year being 2009. This suggests a relatively even distribution of data over time."
   ]
  },
  {
   "cell_type": "code",
   "execution_count": null,
   "metadata": {},
   "outputs": [],
   "source": [
    "# Display summary statistics for categorical columns\n",
    "crime_data.describe(include='object')"
   ]
  },
  {
   "cell_type": "markdown",
   "metadata": {},
   "source": [
    "Observation:\n",
    "\n",
    "- The Case Number column has 7,690,678 unique values out of 7,691,205 records, suggesting that most cases have unique identifiers, but a few may be duplicated or missing."
   ]
  },
  {
   "cell_type": "code",
   "execution_count": null,
   "metadata": {},
   "outputs": [],
   "source": [
    "# Check unique crime types in the dataset\n",
    "print(\"Unique crime types:\", crime_data[\"Primary Type\"].nunique())\n",
    "print(crime_data[\"Primary Type\"].value_counts().head(10))  # Top 10 crime types"
   ]
  },
  {
   "cell_type": "markdown",
   "metadata": {},
   "source": [
    "Observation:\n",
    "\n",
    "- There are 36 unique crime types in the dataset, with THEFT (1,622,756 cases) being the most frequent, followed by BATTERY (1,408,218 cases) and CRIMINAL DAMAGE (876,928 cases)."
   ]
  },
  {
   "cell_type": "code",
   "execution_count": null,
   "metadata": {},
   "outputs": [],
   "source": [
    "# Check unique location descriptions\n",
    "print(\"Unique crime locations:\", crime_data[\"Location Description\"].nunique())\n",
    "print(crime_data[\"Location Description\"].value_counts().head(10))  # Top 10 crime locations"
   ]
  },
  {
   "cell_type": "markdown",
   "metadata": {},
   "source": [
    "Observation:\n",
    "\n",
    "- The dataset contains 215 unique crime locations, with STREET (1,999,814 cases) being the most common crime scene, followed by RESIDENCE (1,293,786 cases) and APARTMENTS (861,299 cases)."
   ]
  },
  {
   "cell_type": "code",
   "execution_count": null,
   "metadata": {},
   "outputs": [],
   "source": [
    "# Convert date column to datetime format for better analysis\n",
    "crime_data[\"Date\"] = pd.to_datetime(crime_data[\"Date\"], format=\"%m/%d/%Y %I:%M:%S %p\")"
   ]
  },
  {
   "cell_type": "code",
   "execution_count": null,
   "metadata": {},
   "outputs": [],
   "source": [
    "# Check the earliest and latest dates in the dataset\n",
    "print(f\"Date range: {crime_data['Date'].min()} to {crime_data['Date'].max()}\")"
   ]
  },
  {
   "cell_type": "markdown",
   "metadata": {},
   "source": [
    "Observation:\n",
    "\n",
    "- The dataset spans from January 1, 2001, to December 5, 2022, covering nearly 22 years of crime data. This long timeframe allows for trend analysis, seasonality detection, and historical comparisons."
   ]
  },
  {
   "cell_type": "markdown",
   "metadata": {},
   "source": [
    "### 2.4. Data Cleaning"
   ]
  },
  {
   "cell_type": "code",
   "execution_count": null,
   "metadata": {},
   "outputs": [],
   "source": [
    "# Drop unnecessary columns\n",
    "columns_to_drop = [\n",
    "    \"Case Number\", \"Ward\", \"Beat\", \"Community Area\", \"FBI Code\", \"X Coordinate\", \"Y Coordinate\", \n",
    "    \"Updated On\", \"Location\", \"Historical Wards 2003-2015\", \"Zip Codes\", \n",
    "    \"Boundaries - ZIP Codes\", \"Police Districts\", \"Police Beats\"\n",
    "]\n",
    "crime_data = crime_data.drop(columns=columns_to_drop)\n",
    "\n",
    "# Fill missing values for 'Location Description' with \"Unknown\"\n",
    "crime_data[\"Location Description\"] = crime_data[\"Location Description\"].fillna(\"Unknown\")\n",
    "\n",
    "# Fill missing values for 'District' with \"Unknown\"\n",
    "crime_data[\"District\"] = crime_data[\"District\"].fillna(\"Unknown\")\n",
    "\n",
    "# Display the cleaned dataset info to confirm changes\n",
    "crime_data.info()"
   ]
  },
  {
   "cell_type": "code",
   "execution_count": null,
   "metadata": {},
   "outputs": [],
   "source": [
    "# Verify dataset size and memory usage after cleaning\n",
    "print(f'Dataset shape: {crime_data.shape}')\n",
    "print(crime_data.memory_usage(deep=True).sum(), 'bytes')"
   ]
  },
  {
   "cell_type": "markdown",
   "metadata": {},
   "source": [
    "### 2.5. Feature Engineering"
   ]
  },
  {
   "cell_type": "code",
   "execution_count": null,
   "metadata": {},
   "outputs": [],
   "source": [
    "# Get all unique crime types\n",
    "unique_crime_types = crime_data[\"Primary Type\"].unique()\n",
    "\n",
    "# Display the crime types\n",
    "print(\"All Unique Crime Types in the Dataset:\\n\", unique_crime_types)"
   ]
  },
  {
   "cell_type": "code",
   "execution_count": null,
   "metadata": {},
   "outputs": [],
   "source": [
    "# Extracting time-based features\n",
    "crime_data[\"Year\"] = crime_data[\"Date\"].dt.year\n",
    "crime_data[\"Month\"] = crime_data[\"Date\"].dt.month\n",
    "crime_data[\"Day_of_Week\"] = crime_data[\"Date\"].dt.day_name()\n",
    "crime_data[\"Hour\"] = crime_data[\"Date\"].dt.hour\n",
    "\n",
    "# Creating a weekend flag (1 = weekend, 0 = weekday)\n",
    "crime_data[\"Weekend\"] = crime_data[\"Day_of_Week\"].isin([\"Saturday\", \"Sunday\"]).astype(int)\n",
    "\n",
    "# Creating a \"Time of Day\" feature\n",
    "def get_time_of_day(hour):\n",
    "    if 5 <= hour < 12:\n",
    "        return \"Morning\"\n",
    "    elif 12 <= hour < 17:\n",
    "        return \"Afternoon\"\n",
    "    elif 17 <= hour < 21:\n",
    "        return \"Evening\"\n",
    "    else:\n",
    "        return \"Night\"\n",
    "\n",
    "crime_data[\"Time_of_Day\"] = crime_data[\"Hour\"].apply(get_time_of_day)\n",
    "\n",
    "# Categorizing crime severity based on crime type\n",
    "high_severity = [\n",
    "    \"HOMICIDE\", \"CRIMINAL SEXUAL ASSAULT\", \"ROBBERY\", \"BATTERY\", \n",
    "    \"CRIM SEXUAL ASSAULT\", \"KIDNAPPING\", \"HUMAN TRAFFICKING\", \n",
    "    \"STALKING\", \"INTIMIDATION\", \"ARSON\", \"DOMESTIC VIOLENCE\"\n",
    "]\n",
    "\n",
    "medium_severity = [\n",
    "    \"ASSAULT\", \"BURGLARY\", \"MOTOR VEHICLE THEFT\", \"WEAPONS VIOLATION\", \n",
    "    \"CRIMINAL DAMAGE\", \"CRIMINAL TRESPASS\", \"SEX OFFENSE\", \n",
    "    \"OFFENSE INVOLVING CHILDREN\", \"PROSTITUTION\", \"PUBLIC PEACE VIOLATION\"\n",
    "]\n",
    "\n",
    "low_severity = [\n",
    "    \"THEFT\", \"NARCOTICS\", \"DECEPTIVE PRACTICE\", \"GAMBLING\", \"LIQUOR LAW VIOLATION\", \n",
    "    \"INTERFERENCE WITH PUBLIC OFFICER\", \"OBSCENITY\", \"PUBLIC INDECENCY\", \n",
    "    \"OTHER OFFENSE\", \"OTHER NARCOTIC VIOLATION\", \"CONCEALED CARRY LICENSE VIOLATION\",\n",
    "    \"NON-CRIMINAL\", \"NON-CRIMINAL (SUBJECT SPECIFIED)\", \"NON - CRIMINAL\", \n",
    "    \"RITUALISM\"\n",
    "]\n",
    "\n",
    "def classify_severity(crime):\n",
    "    if crime in high_severity:\n",
    "        return \"High\"\n",
    "    elif crime in medium_severity:\n",
    "        return \"Medium\"\n",
    "    else:\n",
    "        return \"Low\"\n",
    "\n",
    "crime_data[\"Crime_Severity\"] = crime_data[\"Primary Type\"].apply(classify_severity)\n",
    "\n",
    "# Calculating arrest rate per district\n",
    "crime_data[\"Arrest\"] = crime_data[\"Arrest\"].astype(int)\n",
    "crime_data[\"Arrest_Rate\"] = crime_data.groupby(\"District\")[\"Arrest\"].transform(lambda x: x.rolling(100, min_periods=1).mean())\n",
    "\n",
    "# Display updated dataset\n",
    "crime_data.head()"
   ]
  },
  {
   "cell_type": "markdown",
   "metadata": {},
   "source": [
    "Observation:\n",
    "\n",
    "- The dataset now contains 23 columns, including additional derived features such as Month, Day_of_Week, Hour, Weekend, Time_of_Day, Crime_Severity, and Arrest_Rate."
   ]
  },
  {
   "cell_type": "markdown",
   "metadata": {},
   "source": [
    "## 3. Exploratory Data Analysis (EDA)"
   ]
  },
  {
   "cell_type": "markdown",
   "metadata": {},
   "source": [
    "### 3.1. Descriptive Statistics"
   ]
  },
  {
   "cell_type": "code",
   "execution_count": null,
   "metadata": {},
   "outputs": [],
   "source": [
    "# Display statistics for numerical features\n",
    "print(\"Summary Statistics for Numerical Features:\\n\", crime_data.describe())"
   ]
  },
  {
   "cell_type": "markdown",
   "metadata": {},
   "source": [
    "Observation:\n",
    "\n",
    "- The dataset spans from 2001 to 2022, with the median year being 2009, indicating a balanced distribution of crime records over time."
   ]
  },
  {
   "cell_type": "code",
   "execution_count": null,
   "metadata": {},
   "outputs": [],
   "source": [
    "# Display statistics for categorical features\n",
    "print(\"\\nSummary Statistics for Categorical Features:\\n\", crime_data.describe(include='object'))"
   ]
  },
  {
   "cell_type": "code",
   "execution_count": null,
   "metadata": {},
   "outputs": [],
   "source": [
    "# Display crime count per severity category\n",
    "print(\"\\nCrime Count by Severity:\\n\", crime_data[\"Crime_Severity\"].value_counts())"
   ]
  },
  {
   "cell_type": "markdown",
   "metadata": {},
   "source": [
    "### 3.2. Crime Distribution"
   ]
  },
  {
   "cell_type": "markdown",
   "metadata": {},
   "source": [
    "#### 3.2.1. By Type"
   ]
  },
  {
   "cell_type": "code",
   "execution_count": null,
   "metadata": {},
   "outputs": [],
   "source": [
    "# Count of crimes by type\n",
    "top_crimes = crime_data[\"Primary Type\"].value_counts().head(10)\n",
    "\n",
    "# Print top 10 crime types and their counts\n",
    "print(\"Top 10 Crime Types in Chicago:\")\n",
    "print(top_crimes)"
   ]
  },
  {
   "cell_type": "code",
   "execution_count": null,
   "metadata": {},
   "outputs": [],
   "source": [
    "# Count of crimes by severity category\n",
    "severity_counts = crime_data[\"Crime_Severity\"].value_counts()\n",
    "\n",
    "# Print crime severity counts\n",
    "print(\"Crime Count by Severity Level:\")\n",
    "print(severity_counts)"
   ]
  },
  {
   "cell_type": "markdown",
   "metadata": {},
   "source": [
    "#### 3.2.2. By Location "
   ]
  },
  {
   "cell_type": "code",
   "execution_count": null,
   "metadata": {},
   "outputs": [],
   "source": [
    "# Count of crimes by location\n",
    "top_locations = crime_data[\"Location Description\"].value_counts().head(10)\n",
    "\n",
    "# Print top 10 crime locations\n",
    "print(\"Top 10 Crime Locations in Chicago:\")\n",
    "print(top_locations)"
   ]
  },
  {
   "cell_type": "code",
   "execution_count": null,
   "metadata": {},
   "outputs": [],
   "source": [
    "# Group by Community Area and count the number of crimes\n",
    "crime_by_area = crime_data.groupby(\"Community Areas\").size().reset_index(name=\"Crime Count\")\n",
    "\n",
    "# Map community area numbers to names\n",
    "community_names = {i: name for i, name in enumerate([\n",
    "    \"Rogers Park\", \"West Ridge\", \"Uptown\", \"Lincoln Square\", \"North Center\", \"Lake View\",\n",
    "    \"Lincoln Park\", \"Near North Side\", \"Edison Park\", \"Norwood Park\", \"Jefferson Park\",\n",
    "    \"Forest Glen\", \"North Park\", \"Albany Park\", \"Portage Park\", \"Irving Park\", \"Dunning\",\n",
    "    \"Montclare\", \"Belmont Cragin\", \"Hermosa\", \"Avondale\", \"Logan Square\", \"Humboldt Park\",\n",
    "    \"West Town\", \"Austin\", \"West Garfield Park\", \"East Garfield Park\", \"Near West Side\",\n",
    "    \"North Lawndale\", \"South Lawndale\", \"Lower West Side\", \"Loop\", \"Near South Side\",\n",
    "    \"Armour Square\", \"Douglas\", \"Oakland\", \"Fuller Park\", \"Grand Boulevard\", \"Kenwood\",\n",
    "    \"Washington Park\", \"Hyde Park\", \"Woodlawn\", \"South Shore\", \"Chatham\", \"Avalon Park\",\n",
    "    \"South Chicago\", \"Burnside\", \"Calumet Heights\", \"Roseland\", \"Pullman\", \"South Deering\",\n",
    "    \"East Side\", \"West Pullman\", \"Riverdale\", \"Hegewisch\", \"Garfield Ridge\", \"Archer Heights\",\n",
    "    \"Brighton Park\", \"McKinley Park\", \"Bridgeport\", \"New City\", \"West Elsdon\", \"Gage Park\",\n",
    "    \"Clearing\", \"West Lawn\", \"Chicago Lawn\", \"West Englewood\", \"Englewood\",\n",
    "    \"Greater Grand Crossing\", \"Ashburn\", \"Auburn Gresham\", \"Beverly\", \"Washington Heights\",\n",
    "    \"Mount Greenwood\", \"Morgan Park\", \"O'Hare\", \"Edgewater\"\n",
    "], start=1)}\n",
    "\n",
    "# Replace Community Area numbers with their corresponding names from the dictionary\n",
    "crime_by_area[\"Community Name\"] = crime_by_area[\"Community Areas\"].map(community_names)\n",
    "\n",
    "# Remove rows where there was no matching name in the dictionary\n",
    "crime_by_area = crime_by_area.dropna(subset=[\"Community Name\"])\n",
    "\n",
    "# Sort by Crime Count in descending order\n",
    "crime_by_area_sorted = crime_by_area.sort_values(by=\"Crime Count\", ascending=False)\n",
    "\n",
    "print(\"Crime Count by Community Area in Chicago:\")\n",
    "print(crime_by_area_sorted)"
   ]
  },
  {
   "cell_type": "markdown",
   "metadata": {},
   "source": [
    "#### 3.2.3. By Time"
   ]
  },
  {
   "cell_type": "code",
   "execution_count": null,
   "metadata": {},
   "outputs": [],
   "source": [
    "# Count of crimes by year\n",
    "yearly_trend = crime_data[\"Year\"].value_counts().sort_index()\n",
    "\n",
    "print(\"Crime Trend Over the Years in Chicago:\")\n",
    "print(yearly_trend)"
   ]
  },
  {
   "cell_type": "code",
   "execution_count": null,
   "metadata": {},
   "outputs": [],
   "source": [
    "# Count of crimes by month\n",
    "monthly_trend = crime_data[\"Month\"].value_counts().sort_index()\n",
    "\n",
    "print(\"Crime Trend by Month:\")\n",
    "print(monthly_trend)"
   ]
  },
  {
   "cell_type": "code",
   "execution_count": null,
   "metadata": {},
   "outputs": [],
   "source": [
    "# Ensure 'Date' is in datetime format\n",
    "crime_data[\"Date\"] = pd.to_datetime(crime_data[\"Date\"], errors=\"coerce\")\n",
    "\n",
    "# Extract Day of the Week from 'Date' column\n",
    "crime_data[\"Day of Week\"] = crime_data[\"Date\"].dt.day_name()\n",
    "\n",
    "# Count crimes by day of the week (ensure order from Monday to Sunday)\n",
    "day_order = [\"Monday\", \"Tuesday\", \"Wednesday\", \"Thursday\", \"Friday\", \"Saturday\", \"Sunday\"]\n",
    "day_of_week_trend = crime_data[\"Day of Week\"].value_counts().reindex(day_order)\n",
    "\n",
    "print(\"Crime Distribution by Day of the Week:\")\n",
    "print(day_of_week_trend)"
   ]
  },
  {
   "cell_type": "code",
   "execution_count": null,
   "metadata": {},
   "outputs": [],
   "source": [
    "# Ensure 'Date' is in datetime format\n",
    "crime_data[\"Date\"] = pd.to_datetime(crime_data[\"Date\"], errors=\"coerce\")\n",
    "\n",
    "# Extract Hour from 'Date' column\n",
    "crime_data[\"Hour\"] = crime_data[\"Date\"].dt.hour\n",
    "\n",
    "# Count crimes by hour\n",
    "hourly_trend = crime_data[\"Hour\"].value_counts().sort_index()\n",
    "\n",
    "print(\"Crime Distribution by Hour:\")\n",
    "print(hourly_trend)"
   ]
  },
  {
   "cell_type": "markdown",
   "metadata": {},
   "source": [
    "### 3.3. Data Visualization"
   ]
  },
  {
   "cell_type": "markdown",
   "metadata": {},
   "source": [
    "#### 3.3.1. Bar charts, histograms, heatmaps (crime density)"
   ]
  },
  {
   "cell_type": "code",
   "execution_count": null,
   "metadata": {},
   "outputs": [],
   "source": [
    "# Count of crimes by type\n",
    "top_crimes = crime_data[\"Primary Type\"].value_counts().head(10)\n",
    "\n",
    "# Plot crime type distribution\n",
    "plt.figure(figsize=(12, 6))\n",
    "sb.barplot(x=top_crimes.index, y=top_crimes.values, palette=\"coolwarm\")\n",
    "plt.xticks(rotation=45)\n",
    "plt.xlabel(\"Crime Type\")\n",
    "plt.ylabel(\"Number of Crimes\")\n",
    "plt.title(\"Top 10 Crime Types in Chicago\")\n",
    "plt.show()"
   ]
  },
  {
   "cell_type": "markdown",
   "metadata": {},
   "source": [
    "Observation:\n",
    "\n",
    "- The bar chart shows the top 10 most common crime types in Chicago, with THEFT being the most frequent (over 1.6 million cases)."
   ]
  },
  {
   "cell_type": "code",
   "execution_count": null,
   "metadata": {},
   "outputs": [],
   "source": [
    "# Count of crimes by severity category\n",
    "severity_counts = crime_data[\"Crime_Severity\"].value_counts()\n",
    "\n",
    "# Plot crime severity distribution\n",
    "plt.figure(figsize=(8, 5))\n",
    "sb.barplot(x=severity_counts.index, y=severity_counts.values, palette=\"coolwarm\")\n",
    "plt.xlabel(\"Crime Severity\")\n",
    "plt.ylabel(\"Number of Crimes\")\n",
    "plt.title(\"Crime Count by Severity Level\")\n",
    "plt.show()"
   ]
  },
  {
   "cell_type": "markdown",
   "metadata": {},
   "source": [
    "Observation:\n",
    "\n",
    "- The bar chart illustrates the distribution of crimes by severity level."
   ]
  },
  {
   "cell_type": "code",
   "execution_count": null,
   "metadata": {},
   "outputs": [],
   "source": [
    "# Count of crimes by location\n",
    "top_locations = crime_data[\"Location Description\"].value_counts().head(10)\n",
    "\n",
    "# Plot crime location distribution\n",
    "plt.figure(figsize=(12, 6))\n",
    "sb.barplot(x=top_locations.index, y=top_locations.values, palette=\"viridis\")\n",
    "plt.xticks(rotation=45, fontsize=6)\n",
    "plt.xlabel(\"Crime Location\")\n",
    "plt.ylabel(\"Number of Crimes\")\n",
    "plt.title(\"Top 10 Crime Locations in Chicago\")\n",
    "plt.show()"
   ]
  },
  {
   "cell_type": "markdown",
   "metadata": {},
   "source": [
    "Observation:\n",
    "\n",
    "- The bar chart displays the top 10 crime locations in Chicago, with STREET being the most common crime scene (over 2 million cases)."
   ]
  },
  {
   "cell_type": "code",
   "execution_count": null,
   "metadata": {},
   "outputs": [],
   "source": [
    "# Group by Community Area and count the number of crimes\n",
    "crime_by_area = crime_data.groupby(\"Community Areas\").size().reset_index(name=\"Crime Count\")\n",
    "\n",
    "# Replace Community Area numbers with their corresponding names from the dictionary\n",
    "crime_by_area[\"Community Name\"] = crime_by_area[\"Community Areas\"].map(community_names)\n",
    "\n",
    "# Remove rows where there was no matching name in the dictionary\n",
    "crime_by_area = crime_by_area.dropna(subset=[\"Community Name\"])\n",
    "\n",
    "# Sort by Crime Count in descending order\n",
    "crime_by_area_sorted = crime_by_area.sort_values(by=\"Crime Count\", ascending=False)\n",
    "\n",
    "# Plot Crime Count by Community Area with a dark brown to light beige gradient\n",
    "plt.figure(figsize=(12, 6))\n",
    "sb.barplot(data=crime_by_area_sorted, \n",
    "           x=\"Community Name\",\n",
    "           y=\"Crime Count\", \n",
    "           palette=\"YlOrBr_r\")\n",
    "\n",
    "plt.xticks(rotation=90)\n",
    "plt.title(\"Crime Count by Community Area in Chicago\")\n",
    "plt.xlabel(\"Community Area\")\n",
    "plt.ylabel(\"Crime Count\")\n",
    "\n",
    "# Show the plot\n",
    "plt.show()"
   ]
  },
  {
   "cell_type": "markdown",
   "metadata": {},
   "source": [
    "Observation:\n",
    "\n",
    "- The bar chart displays crime distribution by community area in Chicago, highlighting areas with the highest and lowest crime counts."
   ]
  },
  {
   "cell_type": "code",
   "execution_count": null,
   "metadata": {},
   "outputs": [],
   "source": [
    "# Count of crimes by month\n",
    "monthly_trend = crime_data[\"Month\"].value_counts().sort_index()\n",
    "\n",
    "plt.figure(figsize=(12, 6))\n",
    "sb.barplot(x=monthly_trend.index, y=monthly_trend.values, palette=\"magma\")\n",
    "plt.xlabel(\"Month\")\n",
    "plt.ylabel(\"Number of Crimes\")\n",
    "plt.title(\"Crime Trend by Month\")\n",
    "plt.show()"
   ]
  },
  {
   "cell_type": "markdown",
   "metadata": {},
   "source": [
    "Observation:\n",
    "\n",
    "- The bar chart illustrates monthly crime trends in Chicago, showing seasonal variations in criminal activity."
   ]
  },
  {
   "cell_type": "code",
   "execution_count": null,
   "metadata": {},
   "outputs": [],
   "source": [
    "# Count of crimes by time of day\n",
    "time_of_day_trend = crime_data[\"Time_of_Day\"].value_counts()\n",
    "\n",
    "plt.figure(figsize=(8, 5))\n",
    "sb.barplot(x=time_of_day_trend.index, y=time_of_day_trend.values, palette=\"Set2\")\n",
    "plt.xlabel(\"Time of Day\")\n",
    "plt.ylabel(\"Number of Crimes\")\n",
    "plt.title(\"Crime Distribution by Time of Day\")\n",
    "plt.show()"
   ]
  },
  {
   "cell_type": "markdown",
   "metadata": {},
   "source": [
    "Observation:\n",
    "\n",
    "- The bar chart displays crime distribution by time of day, categorizing incidents into Morning, Afternoon, Evening, and Night."
   ]
  },
  {
   "cell_type": "code",
   "execution_count": null,
   "metadata": {},
   "outputs": [],
   "source": [
    "# Ensure 'Date' is in datetime format\n",
    "crime_data[\"Date\"] = pd.to_datetime(crime_data[\"Date\"], errors=\"coerce\")\n",
    "\n",
    "# Extract Day of the Week from 'Date' column\n",
    "crime_data[\"Day of Week\"] = crime_data[\"Date\"].dt.day_name()\n",
    "\n",
    "# Count crimes by day of the week (ensure order from Monday to Sunday)\n",
    "day_order = [\"Monday\", \"Tuesday\", \"Wednesday\", \"Thursday\", \"Friday\", \"Saturday\", \"Sunday\"]\n",
    "day_of_week_trend = crime_data[\"Day of Week\"].value_counts().reindex(day_order)\n",
    "\n",
    "# Plot Day of the Week Crime Trends\n",
    "plt.figure(figsize=(10, 5))\n",
    "day_of_week_trend.plot(kind=\"bar\", color=\"green\")\n",
    "plt.xlabel(\"Day of the Week\")\n",
    "plt.ylabel(\"Number of Crimes\")\n",
    "plt.title(\"Crime Distribution by Day of the Week\")\n",
    "plt.xticks(rotation=45)\n",
    "plt.grid(axis=\"y\")\n",
    "plt.show()"
   ]
  },
  {
   "cell_type": "markdown",
   "metadata": {},
   "source": [
    "Observation:\n",
    "\n",
    "- The bar chart represents the crime distribution by day of the week"
   ]
  },
  {
   "cell_type": "markdown",
   "metadata": {},
   "source": [
    "#### 3.3.2. Line graphs (crime trends over time)"
   ]
  },
  {
   "cell_type": "code",
   "execution_count": null,
   "metadata": {},
   "outputs": [],
   "source": [
    "# Count of crimes by year\n",
    "yearly_trend = crime_data[\"Year\"].value_counts().sort_index()\n",
    "\n",
    "plt.figure(figsize=(12, 6))\n",
    "sb.lineplot(x=yearly_trend.index, y=yearly_trend.values, marker=\"o\", color=\"blue\")\n",
    "plt.xlabel(\"Year\")\n",
    "plt.ylabel(\"Number of Crimes\")\n",
    "plt.title(\"Crime Trend Over the Years in Chicago\")\n",
    "plt.grid(True)\n",
    "plt.show()"
   ]
  },
  {
   "cell_type": "markdown",
   "metadata": {},
   "source": [
    "Observation:\n",
    "\n",
    "- The line chart illustrates the overall crime trend in Chicago from 2001 to 2022."
   ]
  },
  {
   "cell_type": "code",
   "execution_count": null,
   "metadata": {},
   "outputs": [],
   "source": [
    "# Ensure 'Date' is in datetime format\n",
    "crime_data[\"Date\"] = pd.to_datetime(crime_data[\"Date\"], errors=\"coerce\")\n",
    "\n",
    "# Extract Hour from 'Date' column\n",
    "crime_data[\"Hour\"] = crime_data[\"Date\"].dt.hour\n",
    "\n",
    "# Count crimes by hour\n",
    "hourly_trend = crime_data[\"Hour\"].value_counts().sort_index()\n",
    "\n",
    "# Plot Crime Distribution by Hour\n",
    "plt.figure(figsize=(10, 5))\n",
    "plt.plot(hourly_trend.index, hourly_trend.values, marker=\"o\", linestyle=\"-\", color=\"red\")\n",
    "plt.xlabel(\"Hour of the Day\")\n",
    "plt.ylabel(\"Number of Crimes\")\n",
    "plt.title(\"Crime Distribution by Hour\")\n",
    "plt.xticks(range(0, 24))\n",
    "plt.grid()\n",
    "plt.show()"
   ]
  },
  {
   "cell_type": "markdown",
   "metadata": {},
   "source": [
    "Observation:\n",
    "\n",
    "- The line chart demonstrates crime distribution by hour of the day, showing clear peaks and declines in criminal activity."
   ]
  },
  {
   "cell_type": "markdown",
   "metadata": {},
   "source": [
    "#### 3.3.3. Maps (geospatial distribution of crime)"
   ]
  },
  {
   "cell_type": "code",
   "execution_count": null,
   "metadata": {},
   "outputs": [],
   "source": [
    "# Remove rows with missing latitude or longitude\n",
    "crime_data_map = crime_data.dropna(subset=[\"Latitude\", \"Longitude\"])\n",
    "\n",
    "# Create a folium map centered at the mean latitude & longitude\n",
    "chicago_map = folium.Map(location=[crime_data_map['Latitude'].mean(), crime_data_map['Longitude'].mean()], zoom_start=11)\n",
    "\n",
    "# Convert crime data to list format for HeatMap\n",
    "heat_data = crime_data_map[['Latitude', 'Longitude']].values.tolist()\n",
    "\n",
    "# Add heatmap layer\n",
    "HeatMap(heat_data, radius=7).add_to(chicago_map)\n",
    "\n",
    "# Display map in the notebook\n",
    "display(chicago_map)"
   ]
  },
  {
   "cell_type": "code",
   "execution_count": null,
   "metadata": {},
   "outputs": [],
   "source": [
    "# Load Chicago Community Area boundaries (GeoJSON)\n",
    "geojson_url = \"https://data.cityofchicago.org/api/geospatial/igwz-8jzy?method=export&format=GeoJSON\"\n",
    "community_areas = gpd.read_file(geojson_url)\n",
    "\n",
    "# Ensure correct column name exists\n",
    "if \"area_numbe\" in community_areas.columns:\n",
    "    community_areas.rename(columns={\"area_numbe\": \"Community Area\"}, inplace=True)\n",
    "elif \"area_number\" in community_areas.columns:\n",
    "    community_areas.rename(columns={\"area_number\": \"Community Area\"}, inplace=True)\n",
    "\n",
    "# Group by Community Area and count the number of crimes\n",
    "crime_by_area = crime_data.groupby(\"Community Areas\").size().reset_index(name=\"Crime Count\")\n",
    "\n",
    "# Convert Community Area to integer\n",
    "community_areas[\"Community Area\"] = community_areas[\"Community Area\"].fillna(-1).astype(int)\n",
    "\n",
    "# Map community area numbers to names\n",
    "community_names = {i: name for i, name in enumerate([\n",
    "    \"Rogers Park\", \"West Ridge\", \"Uptown\", \"Lincoln Square\", \"North Center\", \"Lake View\",\n",
    "    \"Lincoln Park\", \"Near North Side\", \"Edison Park\", \"Norwood Park\", \"Jefferson Park\",\n",
    "    \"Forest Glen\", \"North Park\", \"Albany Park\", \"Portage Park\", \"Irving Park\", \"Dunning\",\n",
    "    \"Montclare\", \"Belmont Cragin\", \"Hermosa\", \"Avondale\", \"Logan Square\", \"Humboldt Park\",\n",
    "    \"West Town\", \"Austin\", \"West Garfield Park\", \"East Garfield Park\", \"Near West Side\",\n",
    "    \"North Lawndale\", \"South Lawndale\", \"Lower West Side\", \"Loop\", \"Near South Side\",\n",
    "    \"Armour Square\", \"Douglas\", \"Oakland\", \"Fuller Park\", \"Grand Boulevard\", \"Kenwood\",\n",
    "    \"Washington Park\", \"Hyde Park\", \"Woodlawn\", \"South Shore\", \"Chatham\", \"Avalon Park\",\n",
    "    \"South Chicago\", \"Burnside\", \"Calumet Heights\", \"Roseland\", \"Pullman\", \"South Deering\",\n",
    "    \"East Side\", \"West Pullman\", \"Riverdale\", \"Hegewisch\", \"Garfield Ridge\", \"Archer Heights\",\n",
    "    \"Brighton Park\", \"McKinley Park\", \"Bridgeport\", \"New City\", \"West Elsdon\", \"Gage Park\",\n",
    "    \"Clearing\", \"West Lawn\", \"Chicago Lawn\", \"West Englewood\", \"Englewood\",\n",
    "    \"Greater Grand Crossing\", \"Ashburn\", \"Auburn Gresham\", \"Beverly\", \"Washington Heights\",\n",
    "    \"Mount Greenwood\", \"Morgan Park\", \"O'Hare\", \"Edgewater\"\n",
    "], start=1)}\n",
    "\n",
    "# Replace Community Area numbers with their corresponding names\n",
    "crime_by_area[\"Community Name\"] = crime_by_area[\"Community Areas\"].map(community_names)\n",
    "\n",
    "# Convert 'Community Area' and 'Community Areas' to integer type\n",
    "crime_by_area[\"Community Areas\"] = crime_by_area[\"Community Areas\"].astype(int)\n",
    "\n",
    "# Merge crime data with community area boundaries\n",
    "crime_map_data = community_areas.merge(\n",
    "    crime_by_area, \n",
    "    left_on=\"Community Area\", \n",
    "    right_on=\"Community Areas\", \n",
    "    how=\"left\"\n",
    ")\n",
    "\n",
    "# Fill missing crime counts with 0\n",
    "crime_map_data[\"Crime Count\"] = crime_map_data[\"Crime Count\"].fillna(0)\n",
    "\n",
    "# Create a color scale from light yellow to red based on crime count\n",
    "max_crime = crime_map_data[\"Crime Count\"].max()\n",
    "min_crime = crime_map_data[\"Crime Count\"].min()\n",
    "colormap = cm.linear.YlOrRd_09.scale(min_crime, max_crime) \n",
    "\n",
    "# Create a Folium Map centered around Chicago\n",
    "chicago_map = folium.Map(location=[41.8781, -87.6298], zoom_start=10)\n",
    "\n",
    "# Add community areas to the map with gradient coloring and interactive tooltips\n",
    "folium.GeoJson(\n",
    "    crime_map_data,\n",
    "    name=\"Community Areas\",\n",
    "    style_function=lambda feature: {\n",
    "        \"fillColor\": colormap(feature[\"properties\"][\"Crime Count\"]),\n",
    "        \"color\": \"black\",\n",
    "        \"weight\": 1,\n",
    "        \"fillOpacity\": 0.7\n",
    "    },\n",
    "    tooltip=GeoJsonTooltip(\n",
    "        fields=[\"Community Name\", \"Crime Count\"],\n",
    "        aliases=[\"Community Area:\", \"Total Crimes:\"],\n",
    "        localize=True,\n",
    "        sticky=True,\n",
    "        labels=True\n",
    "    )\n",
    ").add_to(chicago_map)\n",
    "\n",
    "# Add color legend to the map\n",
    "colormap.caption = \"Crime Count by Community Area\"\n",
    "chicago_map.add_child(colormap)\n",
    "\n",
    "# Display the interactive map in the Jupyter Notebook\n",
    "display(chicago_map)"
   ]
  },
  {
   "cell_type": "markdown",
   "metadata": {},
   "source": [
    "## 4. Statistical Analysis"
   ]
  },
  {
   "cell_type": "markdown",
   "metadata": {},
   "source": [
    "### 4.1. Correlation Analysis"
   ]
  },
  {
   "cell_type": "code",
   "execution_count": null,
   "metadata": {},
   "outputs": [],
   "source": [
    "# Selecting only numeric columns for correlation analysis\n",
    "numeric_data = crime_data.select_dtypes(include=['number'])\n",
    "\n",
    "# Creating a heatmap of numeric correlations\n",
    "plt.figure(figsize=(12, 8))\n",
    "sb.heatmap(numeric_data.corr(), annot=True, cmap=\"coolwarm\", fmt=\".2f\")\n",
    "plt.title(\"Correlation Heatmap of Crime Data\")\n",
    "plt.show()"
   ]
  },
  {
   "cell_type": "markdown",
   "metadata": {},
   "source": [
    "Observation:\n",
    "\n",
    "- The correlation heatmap visualizes the relationships between numerical features in the crime dataset."
   ]
  },
  {
   "cell_type": "markdown",
   "metadata": {},
   "source": [
    "### 4.2. Regression Analysis"
   ]
  },
  {
   "cell_type": "code",
   "execution_count": null,
   "metadata": {},
   "outputs": [],
   "source": [
    "from sklearn.model_selection import train_test_split\n",
    "from sklearn.linear_model import LinearRegression\n",
    "from sklearn.metrics import mean_absolute_error, r2_score\n",
    "import matplotlib.pyplot as plt\n",
    "import seaborn as sns\n",
    "import pandas as pd\n",
    "\n",
    "# Aggregate crimes per year\n",
    "crime_trend = crime_data.groupby(\"Year\").size().reset_index(name=\"Crime_Count\")\n",
    "\n",
    "# Define X and y\n",
    "X = crime_trend[[\"Year\"]]\n",
    "y = crime_trend[\"Crime_Count\"]\n",
    "\n",
    "# Split into training and test sets\n",
    "X_train, X_test, y_train, y_test = train_test_split(X, y, test_size=0.2, random_state=42)\n",
    "\n",
    "# Train a linear regression model\n",
    "model = LinearRegression()\n",
    "model.fit(X_train, y_train)\n",
    "\n",
    "# Predict crime for future years (2023-2025)\n",
    "future_years = pd.DataFrame({\"Year\": [2023, 2024, 2025]})\n",
    "future_crime_predictions = model.predict(future_years)\n",
    "future_crime_df = pd.DataFrame({\"Year\": [2023, 2024, 2025], \"Crime_Count\": future_crime_predictions})\n",
    "\n",
    "print(\"Predicted crime rates for 2023-2025:\", future_crime_predictions)\n",
    "\n",
    "# Evaluate model performance\n",
    "y_pred = model.predict(X_test)\n",
    "print(f\"Mean Absolute Error: {mean_absolute_error(y_test, y_pred):.2f}\")\n",
    "print(f\"R-squared Score: {r2_score(y_test, y_pred):.2f}\")\n",
    "\n",
    "# Append predicted data to crime trend\n",
    "total_crime_trend = pd.concat([crime_trend, future_crime_df], ignore_index=True)\n",
    "\n",
    "print(total_crime_trend)\n",
    "\n",
    "# Plot crime count per year\n",
    "plt.figure(figsize=(12, 6))\n",
    "sns.barplot(x=total_crime_trend[\"Year\"], y=total_crime_trend[\"Crime_Count\"], palette=\"Blues\")\n",
    "plt.xlabel(\"Year\")\n",
    "plt.ylabel(\"Number of Crimes\")\n",
    "plt.title(\"Number of Crimes by Year in Chicago (Including Predictions)\")\n",
    "plt.xticks(rotation=45)\n",
    "plt.grid(axis='y', linestyle='--', alpha=0.7)\n",
    "plt.show()"
   ]
  },
  {
   "cell_type": "markdown",
   "metadata": {},
   "source": [
    "Observation:\n",
    "\n",
    "- Using linear regression model we have calculated the predicted number of 150,107 crimes in 2025."
   ]
  },
  {
   "cell_type": "markdown",
   "metadata": {},
   "source": [
    "## 5. Key Findings & Insights"
   ]
  },
  {
   "cell_type": "code",
   "execution_count": null,
   "metadata": {},
   "outputs": [],
   "source": [
    "# Resample data to count crimes per year\n",
    "crime_data[\"Date\"] = pd.to_datetime(crime_data[\"Date\"])\n",
    "crime_data.set_index(\"Date\", inplace=True)\n",
    "\n",
    "# Resample yearly and compute rolling averages\n",
    "crime_trend = crime_data.resample(\"Y\").size()\n",
    "crime_trend_rolling = crime_trend.rolling(window=5).mean()  # 5-year rolling average\n",
    "\n",
    "# Plot crime trend over the years\n",
    "plt.figure(figsize=(12, 6))\n",
    "plt.plot(crime_trend.index, crime_trend.values, label=\"Annual Crime Count\", color=\"blue\", marker=\"o\")\n",
    "plt.plot(crime_trend_rolling.index, crime_trend_rolling.values, label=\"5-Year Rolling Average\", color=\"red\", linestyle=\"dashed\")\n",
    "\n",
    "plt.xlabel(\"Year\")\n",
    "plt.ylabel(\"Number of Crimes\")\n",
    "plt.title(\"Crime Trend Over the Years (with Rolling Average)\")\n",
    "plt.legend()\n",
    "plt.grid()\n",
    "plt.show()"
   ]
  },
  {
   "cell_type": "markdown",
   "metadata": {},
   "source": [
    "Observation:\n",
    "\n",
    "- The blue line represents the annual crime count, showing a steady decline in crime from 2001 to 2022.\n",
    "\n",
    "- The red dashed line represents the 5-year trend (rolling average). \n",
    "\n",
    "- The trend demonstrates decreasing of the number of crimes in Chicago."
   ]
  },
  {
   "cell_type": "code",
   "execution_count": null,
   "metadata": {},
   "outputs": [],
   "source": [
    "# Group by year and check crime trends\n",
    "pre_pandemic = crime_data[crime_data[\"Year\"] < 2020][\"Year\"].value_counts().sort_index()\n",
    "post_pandemic = crime_data[crime_data[\"Year\"] >= 2020][\"Year\"].value_counts().sort_index()\n",
    "\n",
    "# Plot crime trends before and after 2020\n",
    "plt.figure(figsize=(10,5))\n",
    "plt.plot(pre_pandemic.index, pre_pandemic.values, marker='o', label=\"Before COVID-19\")\n",
    "plt.plot(post_pandemic.index, post_pandemic.values, marker='o', label=\"After COVID-19\", linestyle=\"dashed\")\n",
    "plt.xlabel(\"Year\")\n",
    "plt.ylabel(\"Number of Crimes\")\n",
    "plt.title(\"Crime Trends Before and After COVID-19\")\n",
    "plt.legend()\n",
    "plt.show()"
   ]
  },
  {
   "cell_type": "markdown",
   "metadata": {},
   "source": [
    "Observation:\n",
    "\n",
    "- The chart compares crime trends before and after COVID-19.\n",
    "\n",
    "- The number of crimes during and after COVID-19 in Chicago has decreased dramatically due to social isolation"
   ]
  },
  {
   "cell_type": "code",
   "execution_count": null,
   "metadata": {},
   "outputs": [],
   "source": [
    "# Group by Year and calculate arrest percentage\n",
    "crime_trends = crime_data.groupby(\"Year\").agg({\"Arrest\": \"mean\", \"ID\": \"count\"}).rename(columns={\"ID\": \"Total Crimes\"})\n",
    "\n",
    "# Plot Crime Trends vs. Arrest Rate\n",
    "fig, ax1 = plt.subplots(figsize=(10, 5))\n",
    "\n",
    "ax1.set_xlabel(\"Year\")\n",
    "ax1.set_ylabel(\"Total Crimes\", color=\"red\")\n",
    "ax1.plot(crime_trends.index, crime_trends[\"Total Crimes\"], color=\"red\", marker=\"o\", label=\"Total Crimes\")\n",
    "ax1.tick_params(axis=\"y\", labelcolor=\"red\")\n",
    "\n",
    "ax2 = ax1.twinx()\n",
    "ax2.set_ylabel(\"Arrest Rate\", color=\"blue\")\n",
    "ax2.plot(crime_trends.index, crime_trends[\"Arrest\"], color=\"blue\", marker=\"s\", linestyle=\"dashed\", label=\"Arrest Rate\")\n",
    "ax2.tick_params(axis=\"y\", labelcolor=\"blue\")\n",
    "\n",
    "fig.suptitle(\"Crime Rate vs. Arrest Rate Over Time\")\n",
    "fig.legend(loc=\"upper left\")\n",
    "plt.show()"
   ]
  },
  {
   "cell_type": "markdown",
   "metadata": {},
   "source": [
    "Observation:\n",
    "\n",
    "- The chart compares total crimes (red line) and arrest rates (blue line) over time.\n",
    "\n",
    "- This clearly illustrates how the arrest rate impacts the total crime rate."
   ]
  },
  {
   "cell_type": "code",
   "execution_count": null,
   "metadata": {},
   "outputs": [],
   "source": [
    "# Load Socio-Economic Data\n",
    "income_data = pd.read_csv(\"https://data.cityofchicago.org/api/views/iqnk-2tcu/rows.csv\")\n",
    "\n",
    "# Merge Socio-Economic Data with Crime Data\n",
    "crime_demographics = crime_by_area.merge(income_data, left_on=\"Community Areas\", right_on=\"Community Area\", how=\"left\")\n",
    "\n",
    "# Plot: Crime Count vs. Per Capita Income\n",
    "plt.figure(figsize=(8, 5))\n",
    "plt.scatter(crime_demographics[\"Per Capita Income\"], crime_demographics[\"Crime Count\"], alpha=0.6)\n",
    "plt.xlabel(\"Per Capita Income\")\n",
    "plt.ylabel(\"Number of Crimes\")\n",
    "plt.title(\"Crime vs. Income Level in Chicago\")\n",
    "plt.grid(True)\n",
    "plt.show()"
   ]
  },
  {
   "cell_type": "markdown",
   "metadata": {},
   "source": [
    "Observation:\n",
    "\n",
    "- The scatter plot examines the relationship between per capita income and crime levels across different areas in Chicago.\n",
    "\n",
    "- Community areas with income under 40,000 per capita demostrate a higher level of crime rate in the city."
   ]
  },
  {
   "cell_type": "markdown",
   "metadata": {},
   "source": [
    "## 6. Inferences/Suggestions"
   ]
  },
  {
   "cell_type": "markdown",
   "metadata": {},
   "source": [
    "### 6.1. Increase Police Presence in High-Crime Areas"
   ]
  },
  {
   "cell_type": "markdown",
   "metadata": {},
   "source": [
    "- Focus patrols in West Garfield Park, Englewood, and Austin, where crime is highest.\n",
    "\n",
    "- Boost security in streets, sidewalks, and parking lots, common crime locations.\n",
    "\n",
    "- Strengthen policing in community areas to improve security."
   ]
  },
  {
   "cell_type": "markdown",
   "metadata": {},
   "source": [
    "### 6.2. Target Crime During Peak Times"
   ]
  },
  {
   "cell_type": "markdown",
   "metadata": {},
   "source": [
    "- Increase patrols from 6 PM - 12 AM, when crime is most frequent.\n",
    "\n",
    "- Deploy extra security in summer months (June–August).\n",
    "\n",
    "- Improve surveillance and prevention in business districts."
   ]
  },
  {
   "cell_type": "markdown",
   "metadata": {},
   "source": [
    "### 6.3. Use Data-Driven Policing"
   ]
  },
  {
   "cell_type": "markdown",
   "metadata": {},
   "source": [
    "- Implement real-time crime mapping and predictive analytics."
   ]
  },
  {
   "cell_type": "markdown",
   "metadata": {},
   "source": [
    "## 7. Conclusion"
   ]
  },
  {
   "cell_type": "markdown",
   "metadata": {},
   "source": [
    "A mix of stronger policing, community involvement, and data-driven strategies can help reduce crime and improve public safety in the City of Chicago."
   ]
  }
 ],
 "metadata": {
  "kernelspec": {
   "display_name": "Python 3 (ipykernel)",
   "language": "python",
   "name": "python3"
  },
  "language_info": {
   "codemirror_mode": {
    "name": "ipython",
    "version": 3
   },
   "file_extension": ".py",
   "mimetype": "text/x-python",
   "name": "python",
   "nbconvert_exporter": "python",
   "pygments_lexer": "ipython3",
   "version": "3.12.7"
  }
 },
 "nbformat": 4,
 "nbformat_minor": 4
}
